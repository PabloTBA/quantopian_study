{
 "cells": [
  {
   "cell_type": "code",
   "execution_count": 15,
   "id": "b1f8de8a",
   "metadata": {},
   "outputs": [
    {
     "name": "stdout",
     "output_type": "stream",
     "text": [
      "Requirement already satisfied: yfinance in /usr/local/python/3.12.1/lib/python3.12/site-packages (0.2.66)\n",
      "Requirement already satisfied: pandas>=1.3.0 in /home/codespace/.local/lib/python3.12/site-packages (from yfinance) (2.3.1)\n",
      "Requirement already satisfied: numpy>=1.16.5 in /home/codespace/.local/lib/python3.12/site-packages (from yfinance) (2.3.1)\n",
      "Requirement already satisfied: requests>=2.31 in /home/codespace/.local/lib/python3.12/site-packages (from yfinance) (2.32.4)\n",
      "Requirement already satisfied: multitasking>=0.0.7 in /usr/local/python/3.12.1/lib/python3.12/site-packages (from yfinance) (0.0.12)\n",
      "Requirement already satisfied: platformdirs>=2.0.0 in /home/codespace/.local/lib/python3.12/site-packages (from yfinance) (4.3.8)\n",
      "Requirement already satisfied: pytz>=2022.5 in /home/codespace/.local/lib/python3.12/site-packages (from yfinance) (2025.2)\n",
      "Requirement already satisfied: frozendict>=2.3.4 in /usr/local/python/3.12.1/lib/python3.12/site-packages (from yfinance) (2.4.6)\n",
      "Requirement already satisfied: peewee>=3.16.2 in /usr/local/python/3.12.1/lib/python3.12/site-packages (from yfinance) (3.18.2)\n",
      "Requirement already satisfied: beautifulsoup4>=4.11.1 in /home/codespace/.local/lib/python3.12/site-packages (from yfinance) (4.13.4)\n",
      "Requirement already satisfied: curl_cffi>=0.7 in /usr/local/python/3.12.1/lib/python3.12/site-packages (from yfinance) (0.13.0)\n",
      "Requirement already satisfied: protobuf>=3.19.0 in /usr/local/python/3.12.1/lib/python3.12/site-packages (from yfinance) (6.32.1)\n",
      "Requirement already satisfied: websockets>=13.0 in /usr/local/python/3.12.1/lib/python3.12/site-packages (from yfinance) (15.0.1)\n",
      "Requirement already satisfied: soupsieve>1.2 in /home/codespace/.local/lib/python3.12/site-packages (from beautifulsoup4>=4.11.1->yfinance) (2.7)\n",
      "Requirement already satisfied: typing-extensions>=4.0.0 in /home/codespace/.local/lib/python3.12/site-packages (from beautifulsoup4>=4.11.1->yfinance) (4.14.1)\n",
      "Requirement already satisfied: cffi>=1.12.0 in /home/codespace/.local/lib/python3.12/site-packages (from curl_cffi>=0.7->yfinance) (1.17.1)\n",
      "Requirement already satisfied: certifi>=2024.2.2 in /home/codespace/.local/lib/python3.12/site-packages (from curl_cffi>=0.7->yfinance) (2025.7.9)\n",
      "Requirement already satisfied: pycparser in /home/codespace/.local/lib/python3.12/site-packages (from cffi>=1.12.0->curl_cffi>=0.7->yfinance) (2.22)\n",
      "Requirement already satisfied: python-dateutil>=2.8.2 in /home/codespace/.local/lib/python3.12/site-packages (from pandas>=1.3.0->yfinance) (2.9.0.post0)\n",
      "Requirement already satisfied: tzdata>=2022.7 in /home/codespace/.local/lib/python3.12/site-packages (from pandas>=1.3.0->yfinance) (2025.2)\n",
      "Requirement already satisfied: six>=1.5 in /home/codespace/.local/lib/python3.12/site-packages (from python-dateutil>=2.8.2->pandas>=1.3.0->yfinance) (1.17.0)\n",
      "Requirement already satisfied: charset_normalizer<4,>=2 in /home/codespace/.local/lib/python3.12/site-packages (from requests>=2.31->yfinance) (3.4.2)\n",
      "Requirement already satisfied: idna<4,>=2.5 in /home/codespace/.local/lib/python3.12/site-packages (from requests>=2.31->yfinance) (3.10)\n",
      "Requirement already satisfied: urllib3<3,>=1.21.1 in /home/codespace/.local/lib/python3.12/site-packages (from requests>=2.31->yfinance) (2.5.0)\n",
      "\n",
      "\u001b[1m[\u001b[0m\u001b[34;49mnotice\u001b[0m\u001b[1;39;49m]\u001b[0m\u001b[39;49m A new release of pip is available: \u001b[0m\u001b[31;49m25.1.1\u001b[0m\u001b[39;49m -> \u001b[0m\u001b[32;49m25.2\u001b[0m\n",
      "\u001b[1m[\u001b[0m\u001b[34;49mnotice\u001b[0m\u001b[1;39;49m]\u001b[0m\u001b[39;49m To update, run: \u001b[0m\u001b[32;49mpython3 -m pip install --upgrade pip\u001b[0m\n",
      "Collecting pandas-datareader\n",
      "  Downloading pandas_datareader-0.10.0-py3-none-any.whl.metadata (2.9 kB)\n",
      "Collecting lxml (from pandas-datareader)\n",
      "  Downloading lxml-6.0.2-cp312-cp312-manylinux_2_26_x86_64.manylinux_2_28_x86_64.whl.metadata (3.6 kB)\n",
      "Requirement already satisfied: pandas>=0.23 in /home/codespace/.local/lib/python3.12/site-packages (from pandas-datareader) (2.3.1)\n",
      "Requirement already satisfied: requests>=2.19.0 in /home/codespace/.local/lib/python3.12/site-packages (from pandas-datareader) (2.32.4)\n",
      "Requirement already satisfied: numpy>=1.26.0 in /home/codespace/.local/lib/python3.12/site-packages (from pandas>=0.23->pandas-datareader) (2.3.1)\n",
      "Requirement already satisfied: python-dateutil>=2.8.2 in /home/codespace/.local/lib/python3.12/site-packages (from pandas>=0.23->pandas-datareader) (2.9.0.post0)\n",
      "Requirement already satisfied: pytz>=2020.1 in /home/codespace/.local/lib/python3.12/site-packages (from pandas>=0.23->pandas-datareader) (2025.2)\n",
      "Requirement already satisfied: tzdata>=2022.7 in /home/codespace/.local/lib/python3.12/site-packages (from pandas>=0.23->pandas-datareader) (2025.2)\n",
      "Requirement already satisfied: six>=1.5 in /home/codespace/.local/lib/python3.12/site-packages (from python-dateutil>=2.8.2->pandas>=0.23->pandas-datareader) (1.17.0)\n",
      "Requirement already satisfied: charset_normalizer<4,>=2 in /home/codespace/.local/lib/python3.12/site-packages (from requests>=2.19.0->pandas-datareader) (3.4.2)\n",
      "Requirement already satisfied: idna<4,>=2.5 in /home/codespace/.local/lib/python3.12/site-packages (from requests>=2.19.0->pandas-datareader) (3.10)\n",
      "Requirement already satisfied: urllib3<3,>=1.21.1 in /home/codespace/.local/lib/python3.12/site-packages (from requests>=2.19.0->pandas-datareader) (2.5.0)\n",
      "Requirement already satisfied: certifi>=2017.4.17 in /home/codespace/.local/lib/python3.12/site-packages (from requests>=2.19.0->pandas-datareader) (2025.7.9)\n",
      "Downloading pandas_datareader-0.10.0-py3-none-any.whl (109 kB)\n",
      "Downloading lxml-6.0.2-cp312-cp312-manylinux_2_26_x86_64.manylinux_2_28_x86_64.whl (5.3 MB)\n",
      "\u001b[2K   \u001b[90m━━━━━━━━━━━━━━━━━━━━━━━━━━━━━━━━━━━━━━━━\u001b[0m \u001b[32m5.3/5.3 MB\u001b[0m \u001b[31m54.6 MB/s\u001b[0m eta \u001b[36m0:00:00\u001b[0m\n",
      "\u001b[?25hInstalling collected packages: lxml, pandas-datareader\n",
      "\u001b[2K   \u001b[90m━━━━━━━━━━━━━━━━━━━━━━━━━━━━━━━━━━━━━━━━\u001b[0m \u001b[32m2/2\u001b[0m [pandas-datareader]pandas-datareader]\n",
      "\u001b[1A\u001b[2KSuccessfully installed lxml-6.0.2 pandas-datareader-0.10.0\n",
      "\n",
      "\u001b[1m[\u001b[0m\u001b[34;49mnotice\u001b[0m\u001b[1;39;49m]\u001b[0m\u001b[39;49m A new release of pip is available: \u001b[0m\u001b[31;49m25.1.1\u001b[0m\u001b[39;49m -> \u001b[0m\u001b[32;49m25.2\u001b[0m\n",
      "\u001b[1m[\u001b[0m\u001b[34;49mnotice\u001b[0m\u001b[1;39;49m]\u001b[0m\u001b[39;49m To update, run: \u001b[0m\u001b[32;49mpython3 -m pip install --upgrade pip\u001b[0m\n"
     ]
    }
   ],
   "source": [
    "!pip install yfinance\n",
    "!pip install pandas-datareader\n"
   ]
  },
  {
   "cell_type": "code",
   "execution_count": 1,
   "id": "141cf1db",
   "metadata": {},
   "outputs": [],
   "source": [
    "\n",
    "# Useful Functions\n",
    "import numpy as np\n",
    "import pandas as pd\n",
    "import matplotlib.pyplot as plt"
   ]
  },
  {
   "cell_type": "markdown",
   "id": "6b8cea80",
   "metadata": {},
   "source": [
    "EXERCISE 1"
   ]
  },
  {
   "cell_type": "markdown",
   "id": "34699cd9",
   "metadata": {},
   "source": [
    "EXERCISE 1\n"
   ]
  },
  {
   "cell_type": "markdown",
   "id": "5d5e12bf",
   "metadata": {},
   "source": [
    "EXERCISE 1 A"
   ]
  },
  {
   "cell_type": "markdown",
   "id": "c017305a",
   "metadata": {},
   "source": []
  },
  {
   "cell_type": "code",
   "execution_count": 2,
   "id": "105f5e56",
   "metadata": {},
   "outputs": [],
   "source": [
    "l = np.random.randint(1,100, size=1000)\n",
    "s = pd.Series(l)\n"
   ]
  },
  {
   "cell_type": "code",
   "execution_count": 3,
   "id": "42a62bdf",
   "metadata": {},
   "outputs": [],
   "source": [
    "new_index = pd.date_range(\"2016-01-01\", periods=len(s), freq=\"D\")\n",
    "s.index=new_index"
   ]
  },
  {
   "cell_type": "markdown",
   "id": "1f400d3d",
   "metadata": {},
   "source": [
    "EXERCISE 1 B"
   ]
  },
  {
   "cell_type": "code",
   "execution_count": 4,
   "id": "eda7f36f",
   "metadata": {},
   "outputs": [
    {
     "name": "stdout",
     "output_type": "stream",
     "text": [
      "first 50 elements:  2016-01-01    10\n",
      "2016-01-02    39\n",
      "2016-01-03    63\n",
      "2016-01-04    72\n",
      "2016-01-05    65\n",
      "2016-01-06    66\n",
      "2016-01-07    89\n",
      "2016-01-08    62\n",
      "2016-01-09    38\n",
      "2016-01-10    49\n",
      "2016-01-11    88\n",
      "2016-01-12    84\n",
      "2016-01-13    70\n",
      "2016-01-14    16\n",
      "2016-01-15    60\n",
      "2016-01-16    67\n",
      "2016-01-17    62\n",
      "2016-01-18    36\n",
      "2016-01-19    36\n",
      "2016-01-20    76\n",
      "2016-01-21    42\n",
      "2016-01-22    68\n",
      "2016-01-23    91\n",
      "2016-01-24    80\n",
      "2016-01-25    58\n",
      "2016-01-26    76\n",
      "2016-01-27    50\n",
      "2016-01-28    56\n",
      "2016-01-29    35\n",
      "2016-01-30    21\n",
      "2016-01-31    37\n",
      "2016-02-01    17\n",
      "2016-02-02    99\n",
      "2016-02-03    34\n",
      "2016-02-04    22\n",
      "2016-02-05    80\n",
      "2016-02-06    16\n",
      "2016-02-07    81\n",
      "2016-02-08    51\n",
      "2016-02-09    42\n",
      "2016-02-10    88\n",
      "2016-02-11    13\n",
      "2016-02-12    36\n",
      "2016-02-13    87\n",
      "2016-02-14    94\n",
      "2016-02-15    41\n",
      "2016-02-16    29\n",
      "2016-02-17    75\n",
      "2016-02-18    46\n",
      "2016-02-19    58\n",
      "Freq: D, dtype: int64\n",
      "value at 2017-02-20 45\n"
     ]
    }
   ],
   "source": [
    "print(\"first 50 elements: \",s.head(50))\n",
    "print(\"value at 2017-02-20\",s.loc['2017-02-20'])"
   ]
  },
  {
   "cell_type": "code",
   "execution_count": 5,
   "id": "43e2b12a",
   "metadata": {},
   "outputs": [
    {
     "name": "stdout",
     "output_type": "stream",
     "text": [
      "<class 'pandas.core.series.Series'>\n",
      "DatetimeIndex: 1000 entries, 2016-01-01 to 2018-09-26\n",
      "Freq: D\n",
      "Series name: None\n",
      "Non-Null Count  Dtype\n",
      "--------------  -----\n",
      "1000 non-null   int64\n",
      "dtypes: int64(1)\n",
      "memory usage: 47.9 KB\n"
     ]
    }
   ],
   "source": [
    "s.info()"
   ]
  },
  {
   "cell_type": "markdown",
   "id": "b166a537",
   "metadata": {},
   "source": [
    "EXERCISE 1 C"
   ]
  },
  {
   "cell_type": "code",
   "execution_count": 6,
   "id": "29087411",
   "metadata": {},
   "outputs": [
    {
     "name": "stdout",
     "output_type": "stream",
     "text": [
      "values between 1 and 3 2016-05-17    2\n",
      "2016-11-14    2\n",
      "2017-04-09    2\n",
      "2017-05-03    2\n",
      "2017-10-03    2\n",
      "2017-10-05    2\n",
      "2017-12-06    2\n",
      "2018-04-08    2\n",
      "dtype: int64\n"
     ]
    }
   ],
   "source": [
    "print(\"values between 1 and 3\",s.loc[(s > 1) & (s < 3)] )  "
   ]
  },
  {
   "cell_type": "markdown",
   "id": "3f21cbf9",
   "metadata": {},
   "source": [
    "EXERCISE 2 A"
   ]
  },
  {
   "cell_type": "code",
   "execution_count": 29,
   "id": "c2c48e81",
   "metadata": {},
   "outputs": [
    {
     "data": {
      "text/plain": [
       "2018-09-22    80\n",
       "2018-09-23    20\n",
       "2018-09-24    66\n",
       "2018-09-25    53\n",
       "2018-09-26    23\n",
       "Freq: D, dtype: int64"
      ]
     },
     "execution_count": 29,
     "metadata": {},
     "output_type": "execute_result"
    }
   ],
   "source": [
    "s.head(5)\n",
    "s.tail(5)"
   ]
  },
  {
   "cell_type": "markdown",
   "id": "f6cb3f86",
   "metadata": {},
   "source": [
    "EXERCISE 2B"
   ]
  },
  {
   "cell_type": "code",
   "execution_count": null,
   "id": "6b8fab1a",
   "metadata": {},
   "outputs": [
    {
     "name": "stderr",
     "output_type": "stream",
     "text": [
      "/tmp/ipykernel_2190/990247668.py:7: FutureWarning: YF.download() has changed argument auto_adjust default to True\n",
      "  df = yf.download(symbol, start=start, end=end)\n",
      "[*********************100%***********************]  1 of 1 completed"
     ]
    },
    {
     "name": "stdout",
     "output_type": "stream",
     "text": [
      "Ticker         CMG\n",
      "Date              \n",
      "2012-01-03  6.8254\n",
      "2012-01-04  6.9750\n",
      "2012-01-05  7.0096\n",
      "2012-01-06  6.9790\n",
      "2012-01-09  6.7948\n"
     ]
    },
    {
     "name": "stderr",
     "output_type": "stream",
     "text": [
      "\n"
     ]
    }
   ],
   "source": [
    "import yfinance as yf\n",
    "\n",
    "symbol = \"CMG\"\n",
    "start = \"2012-01-01\"\n",
    "end = \"2016-01-01\"\n",
    "\n",
    "df = yf.download(symbol, start=start, end=end)\n",
    "\n",
    "# Equivalent to Quantopian's \"price\" field → use adjusted close\n",
    "prices = df.get(\"Adj Close\", df[\"Close\"])\n",
    "print(prices.head())\n"
   ]
  },
  {
   "cell_type": "code",
   "execution_count": 26,
   "id": "d4219f97",
   "metadata": {},
   "outputs": [
    {
     "name": "stderr",
     "output_type": "stream",
     "text": [
      "/tmp/ipykernel_2190/260680075.py:1: FutureWarning: 'M' is deprecated and will be removed in a future version, please use 'ME' instead.\n",
      "  monthly_prices_med = prices.resample('M').median()\n"
     ]
    },
    {
     "data": {
      "text/html": [
       "<div>\n",
       "<style scoped>\n",
       "    .dataframe tbody tr th:only-of-type {\n",
       "        vertical-align: middle;\n",
       "    }\n",
       "\n",
       "    .dataframe tbody tr th {\n",
       "        vertical-align: top;\n",
       "    }\n",
       "\n",
       "    .dataframe thead th {\n",
       "        text-align: right;\n",
       "    }\n",
       "</style>\n",
       "<table border=\"1\" class=\"dataframe\">\n",
       "  <thead>\n",
       "    <tr style=\"text-align: right;\">\n",
       "      <th>Ticker</th>\n",
       "      <th>CMG</th>\n",
       "    </tr>\n",
       "    <tr>\n",
       "      <th>Date</th>\n",
       "      <th></th>\n",
       "    </tr>\n",
       "  </thead>\n",
       "  <tbody>\n",
       "    <tr>\n",
       "      <th>2012-01-31</th>\n",
       "      <td>7.1101</td>\n",
       "    </tr>\n",
       "    <tr>\n",
       "      <th>2012-02-29</th>\n",
       "      <td>7.5639</td>\n",
       "    </tr>\n",
       "    <tr>\n",
       "      <th>2012-03-31</th>\n",
       "      <td>8.1799</td>\n",
       "    </tr>\n",
       "    <tr>\n",
       "      <th>2012-04-30</th>\n",
       "      <td>8.4167</td>\n",
       "    </tr>\n",
       "    <tr>\n",
       "      <th>2012-05-31</th>\n",
       "      <td>8.1048</td>\n",
       "    </tr>\n",
       "  </tbody>\n",
       "</table>\n",
       "</div>"
      ],
      "text/plain": [
       "Ticker         CMG\n",
       "Date              \n",
       "2012-01-31  7.1101\n",
       "2012-02-29  7.5639\n",
       "2012-03-31  8.1799\n",
       "2012-04-30  8.4167\n",
       "2012-05-31  8.1048"
      ]
     },
     "execution_count": 26,
     "metadata": {},
     "output_type": "execute_result"
    }
   ],
   "source": [
    "monthly_prices_med = prices.resample('M').median()\n",
    "monthly_prices_med.head()"
   ]
  },
  {
   "cell_type": "markdown",
   "id": "a60104b2",
   "metadata": {},
   "source": [
    "EXERCISE 3"
   ]
  },
  {
   "cell_type": "code",
   "execution_count": 27,
   "id": "cc91bb82",
   "metadata": {},
   "outputs": [
    {
     "name": "stderr",
     "output_type": "stream",
     "text": [
      "/tmp/ipykernel_2190/3570324614.py:1: FutureWarning: DataFrame.fillna with 'method' is deprecated and will raise in a future version. Use obj.ffill() or obj.bfill() instead.\n",
      "  fillnan=prices.copy().fillna(method='ffill')\n"
     ]
    }
   ],
   "source": [
    "fillnan=prices.copy().fillna(method='ffill')\n",
    "\n",
    "removenan=prices.copy().dropna()"
   ]
  },
  {
   "cell_type": "markdown",
   "id": "1cf3887a",
   "metadata": {},
   "source": [
    "EXERCISE 4A"
   ]
  },
  {
   "cell_type": "code",
   "execution_count": null,
   "id": "e674bafa",
   "metadata": {},
   "outputs": [],
   "source": [
    "s.describe()"
   ]
  },
  {
   "cell_type": "markdown",
   "id": "26bbed30",
   "metadata": {},
   "source": [
    "EXERCISE 4B"
   ]
  },
  {
   "cell_type": "code",
   "execution_count": 30,
   "id": "e9d65263",
   "metadata": {},
   "outputs": [
    {
     "name": "stderr",
     "output_type": "stream",
     "text": [
      "/tmp/ipykernel_2190/3553620737.py:6: FutureWarning: YF.download() has changed argument auto_adjust default to True\n",
      "  df = yf.download(symbol, start=start, end=end)\n",
      "[*********************100%***********************]  1 of 1 completed"
     ]
    },
    {
     "name": "stdout",
     "output_type": "stream",
     "text": [
      "Ticker         CMG\n",
      "Date              \n",
      "2012-01-03  6.8740\n",
      "2012-01-04  6.9200\n",
      "2012-01-05  6.9376\n",
      "2012-01-06  6.9776\n",
      "2012-01-09  6.9800\n"
     ]
    },
    {
     "name": "stderr",
     "output_type": "stream",
     "text": [
      "\n"
     ]
    }
   ],
   "source": [
    "\n",
    "\n",
    "symbol = \"CMG\"\n",
    "start = \"2012-01-01\"\n",
    "end = \"2016-01-01\"\n",
    "\n",
    "# Download all price data\n",
    "df = yf.download(symbol, start=start, end=end)\n",
    "\n",
    "# Equivalent to Quantopian's fields=\"open_price\"\n",
    "data = df[\"Open\"]\n",
    "\n",
    "print(data.head())\n"
   ]
  },
  {
   "cell_type": "code",
   "execution_count": 35,
   "id": "81fe744a",
   "metadata": {},
   "outputs": [
    {
     "name": "stdout",
     "output_type": "stream",
     "text": [
      "Ticker      additive_returns  log_returns  rolling_mean_60  rolling_std_60\n",
      "Date                                                                      \n",
      "2012-01-03               NaN          NaN              NaN             NaN\n",
      "2012-01-04          0.021918     0.021681              NaN             NaN\n",
      "2012-01-05          0.004961     0.004948              NaN             NaN\n",
      "2012-01-06         -0.004365    -0.004375              NaN             NaN\n",
      "2012-01-09         -0.026394    -0.026748              NaN             NaN\n",
      "...                      ...          ...              ...             ...\n",
      "2012-04-05          0.019039     0.018860         7.751237        0.451031\n",
      "2012-04-09          0.003130     0.003125         7.777473        0.449534\n",
      "2012-04-10         -0.022730    -0.022992         7.800473        0.441842\n",
      "2012-04-11          0.014498     0.014394         7.823153        0.439801\n",
      "2012-04-12          0.024985     0.024678         7.849767        0.441615\n",
      "\n",
      "[70 rows x 4 columns]\n"
     ]
    },
    {
     "name": "stderr",
     "output_type": "stream",
     "text": [
      "/tmp/ipykernel_2190/3963554700.py:2: SettingWithCopyWarning: \n",
      "A value is trying to be set on a copy of a slice from a DataFrame.\n",
      "Try using .loc[row_indexer,col_indexer] = value instead\n",
      "\n",
      "See the caveats in the documentation: https://pandas.pydata.org/pandas-docs/stable/user_guide/indexing.html#returning-a-view-versus-a-copy\n",
      "  data[\"additive_returns\"] = prices.pct_change()\n",
      "/tmp/ipykernel_2190/3963554700.py:5: SettingWithCopyWarning: \n",
      "A value is trying to be set on a copy of a slice from a DataFrame.\n",
      "Try using .loc[row_indexer,col_indexer] = value instead\n",
      "\n",
      "See the caveats in the documentation: https://pandas.pydata.org/pandas-docs/stable/user_guide/indexing.html#returning-a-view-versus-a-copy\n",
      "  data[\"log_returns\"] = np.log(prices / prices.shift(1))\n",
      "/tmp/ipykernel_2190/3963554700.py:8: SettingWithCopyWarning: \n",
      "A value is trying to be set on a copy of a slice from a DataFrame.\n",
      "Try using .loc[row_indexer,col_indexer] = value instead\n",
      "\n",
      "See the caveats in the documentation: https://pandas.pydata.org/pandas-docs/stable/user_guide/indexing.html#returning-a-view-versus-a-copy\n",
      "  data[\"rolling_mean_60\"] = prices.rolling(window=60).mean()\n",
      "/tmp/ipykernel_2190/3963554700.py:11: SettingWithCopyWarning: \n",
      "A value is trying to be set on a copy of a slice from a DataFrame.\n",
      "Try using .loc[row_indexer,col_indexer] = value instead\n",
      "\n",
      "See the caveats in the documentation: https://pandas.pydata.org/pandas-docs/stable/user_guide/indexing.html#returning-a-view-versus-a-copy\n",
      "  data[\"rolling_std_60\"] = prices.rolling(window=60).std()\n"
     ]
    }
   ],
   "source": [
    "\n",
    "\n",
    "# 1. Additive returns (percentage change)\n",
    "data[\"additive_returns\"] = prices.pct_change()\n",
    "\n",
    "# 2. Multiplicative (log) returns\n",
    "data[\"log_returns\"] = np.log(prices / prices.shift(1))\n",
    "\n",
    "# 3. Rolling mean (60-day)\n",
    "data[\"rolling_mean_60\"] = prices.rolling(window=60).mean()\n",
    "\n",
    "# 4. Rolling standard deviation (60-day)\n",
    "data[\"rolling_std_60\"] = prices.rolling(window=60).std()\n",
    "\n",
    "print(data[[\"additive_returns\", \"log_returns\", \"rolling_mean_60\", \"rolling_std_60\"]].head(70))"
   ]
  },
  {
   "cell_type": "markdown",
   "id": "36b82976",
   "metadata": {},
   "source": [
    "Exercise 5A\n"
   ]
  },
  {
   "cell_type": "code",
   "execution_count": 39,
   "id": "86408b37",
   "metadata": {},
   "outputs": [
    {
     "data": {
      "text/html": [
       "<div>\n",
       "<style scoped>\n",
       "    .dataframe tbody tr th:only-of-type {\n",
       "        vertical-align: middle;\n",
       "    }\n",
       "\n",
       "    .dataframe tbody tr th {\n",
       "        vertical-align: top;\n",
       "    }\n",
       "\n",
       "    .dataframe thead th {\n",
       "        text-align: right;\n",
       "    }\n",
       "</style>\n",
       "<table border=\"1\" class=\"dataframe\">\n",
       "  <thead>\n",
       "    <tr style=\"text-align: right;\">\n",
       "      <th></th>\n",
       "      <th>a</th>\n",
       "      <th>b</th>\n",
       "      <th>c</th>\n",
       "    </tr>\n",
       "  </thead>\n",
       "  <tbody>\n",
       "    <tr>\n",
       "      <th>fifth</th>\n",
       "      <td>1</td>\n",
       "      <td>L</td>\n",
       "      <td>0.508463</td>\n",
       "    </tr>\n",
       "    <tr>\n",
       "      <th>fourth</th>\n",
       "      <td>2</td>\n",
       "      <td>K</td>\n",
       "      <td>1.220518</td>\n",
       "    </tr>\n",
       "    <tr>\n",
       "      <th>third</th>\n",
       "      <td>3</td>\n",
       "      <td>J</td>\n",
       "      <td>-1.185670</td>\n",
       "    </tr>\n",
       "    <tr>\n",
       "      <th>second</th>\n",
       "      <td>4</td>\n",
       "      <td>M</td>\n",
       "      <td>-1.159587</td>\n",
       "    </tr>\n",
       "    <tr>\n",
       "      <th>first</th>\n",
       "      <td>5</td>\n",
       "      <td>Z</td>\n",
       "      <td>-1.412416</td>\n",
       "    </tr>\n",
       "  </tbody>\n",
       "</table>\n",
       "</div>"
      ],
      "text/plain": [
       "        a  b         c\n",
       "fifth   1  L  0.508463\n",
       "fourth  2  K  1.220518\n",
       "third   3  J -1.185670\n",
       "second  4  M -1.159587\n",
       "first   5  Z -1.412416"
      ]
     },
     "execution_count": 39,
     "metadata": {},
     "output_type": "execute_result"
    }
   ],
   "source": [
    "l = ['fifth','fourth', 'third', 'second', 'first']\n",
    "dict_data = {'a' : [1, 2, 3, 4, 5], 'b' : ['L', 'K', 'J', 'M', 'Z'],'c' : np.random.normal(0, 1, 5)}\n",
    "\n",
    "df=pd.DataFrame(dict_data,index=l)\n",
    "df.head()"
   ]
  },
  {
   "cell_type": "markdown",
   "id": "1b97fa1d",
   "metadata": {},
   "source": [
    "EXERCISE 5B"
   ]
  },
  {
   "cell_type": "code",
   "execution_count": 48,
   "id": "29de0b63",
   "metadata": {},
   "outputs": [
    {
     "data": {
      "text/plain": [
       "2016-01-01     2\n",
       "2016-01-02     3\n",
       "2016-01-03     5\n",
       "2016-01-04     7\n",
       "2016-01-05    11\n",
       "Freq: D, dtype: int64"
      ]
     },
     "execution_count": 48,
     "metadata": {},
     "output_type": "execute_result"
    }
   ],
   "source": [
    "import pandas as pd\n",
    "\n",
    "s1 = pd.Series([2, 3, 5, 7, 11, 13], name='prime')\n",
    "s2 = pd.Series([1, 4, 6, 8, 9, 10], name='other')\n",
    "s3 = pd.concat([s1, s2])\n",
    "s3.columns=['Good Numbers','Bad Numbers']\n",
    "s3.index=pd.date_range(\"2016-01-01\", periods=len(s3), freq=\"D\")\n",
    "s3.head()"
   ]
  },
  {
   "cell_type": "markdown",
   "id": "ed9b6528",
   "metadata": {},
   "source": [
    "EXERCISE 6"
   ]
  },
  {
   "cell_type": "code",
   "execution_count": 55,
   "id": "9eb1f3ce",
   "metadata": {},
   "outputs": [
    {
     "name": "stderr",
     "output_type": "stream",
     "text": [
      "/tmp/ipykernel_2190/2421970031.py:10: FutureWarning: YF.download() has changed argument auto_adjust default to True\n",
      "  data = yf.download(symbols, start=start, end=end)\n",
      "[*********************100%***********************]  4 of 4 completed\n",
      "\n",
      "1 Failed download:\n",
      "['TOT']: YFPricesMissingError('possibly delisted; no price data found  (1d 2012-01-01 -> 2016-01-01) (Yahoo error = \"Data doesn\\'t exist for startDate = 1325394000, endDate = 1451624400\")')\n"
     ]
    },
    {
     "name": "stdout",
     "output_type": "stream",
     "text": [
      "Columns: Index(['TOT'], dtype='object', name='Ticker')\n",
      "\n",
      "Full Prices DataFrame:\n",
      "Ticker      TOT\n",
      "Date           \n",
      "2012-01-03  NaN\n",
      "2012-01-04  NaN\n",
      "2012-01-05  NaN\n",
      "2012-01-06  NaN\n",
      "2012-01-09  NaN\n",
      "\n",
      "❌ 'XOM' not found in columns. Actual columns are: ['TOT']\n"
     ]
    }
   ],
   "source": [
    "import yfinance as yf\n",
    "import pandas as pd\n",
    "\n",
    "# Tickers and date range\n",
    "symbols = [\"XOM\", \"BP\", \"COP\", \"TOT\"]\n",
    "start = \"2012-01-01\"\n",
    "end = \"2016-01-01\"\n",
    "\n",
    "# Download data\n",
    "data = yf.download(symbols, start=start, end=end)\n",
    "\n",
    "# Extract just Adjusted Close\n",
    "prices = data[\"Adj Close\"]\n",
    "\n",
    "# Force flatten columns if still MultiIndex\n",
    "if isinstance(prices.columns, pd.MultiIndex):\n",
    "    prices.columns = prices.columns.get_level_values(-1)  # keep tickers only\n",
    "\n",
    "# If it's a single ticker, make it a DataFrame\n",
    "if isinstance(prices, pd.Series):\n",
    "    prices = prices.to_frame(name=symbols[0])\n",
    "\n",
    "print(\"Columns:\", prices.columns)\n",
    "print(\"\\nFull Prices DataFrame:\")\n",
    "print(prices.head())\n",
    "\n",
    "# Access one ticker (XOM)\n",
    "if \"XOM\" in prices.columns:\n",
    "    print(\"\\nXOM Prices:\")\n",
    "    print(prices[\"XOM\"].head())\n",
    "else:\n",
    "    print(\"\\n❌ 'XOM' not found in columns. Actual columns are:\", prices.columns.tolist())\n"
   ]
  },
  {
   "cell_type": "code",
   "execution_count": null,
   "id": "c43c7f07",
   "metadata": {},
   "outputs": [],
   "source": []
  }
 ],
 "metadata": {
  "kernelspec": {
   "display_name": "Python 3",
   "language": "python",
   "name": "python3"
  },
  "language_info": {
   "codemirror_mode": {
    "name": "ipython",
    "version": 3
   },
   "file_extension": ".py",
   "mimetype": "text/x-python",
   "name": "python",
   "nbconvert_exporter": "python",
   "pygments_lexer": "ipython3",
   "version": "3.12.1"
  }
 },
 "nbformat": 4,
 "nbformat_minor": 5
}
